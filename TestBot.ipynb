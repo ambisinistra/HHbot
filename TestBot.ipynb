{
 "cells": [
  {
   "cell_type": "code",
   "execution_count": 1,
   "metadata": {},
   "outputs": [
    {
     "data": {
      "text/html": [
       "\n",
       "<style>\n",
       "    div#notebook-container    { width: 110%; }\n",
       "    div#menubar-container     { width: 65%; }\n",
       "    div#maintoolbar-container { width: 99%; }\n",
       "</style>\n"
      ],
      "text/plain": [
       "<IPython.core.display.HTML object>"
      ]
     },
     "metadata": {},
     "output_type": "display_data"
    }
   ],
   "source": [
    "from IPython.display import display, HTML\n",
    "\n",
    "display(HTML(data=\"\"\"\n",
    "<style>\n",
    "    div#notebook-container    { width: 110%; }\n",
    "    div#menubar-container     { width: 65%; }\n",
    "    div#maintoolbar-container { width: 99%; }\n",
    "</style>\n",
    "\"\"\"))"
   ]
  },
  {
   "cell_type": "code",
   "execution_count": null,
   "metadata": {},
   "outputs": [],
   "source": [
    "import numpy as np\n",
    "import pandas as pd\n",
    "\n",
    "from get_data.hh_requests import vacancy_keyword_check, update_vacancies_description\n",
    "\n",
    "df = pd.DataFrame(columns=[\"id\", \"under consideration\", \"status\", \"description\", \"telegram moder\",\n",
    "                           \"have full descript\", \"vacancy text\",  \"vacancy tedited\", , \"update time\", \"logs\"])\n",
    "df = vacancy_keyword_check(\"Motion designer\", df, period=5)\n",
    "df = update_vacancies_description(df)\n",
    "df.head(5)\n",
    "\n",
    "# saving data backup TODO:add date and profession to file name\n",
    "df[[\"description\",\"snippet.requirement\",\"snippet.responsibility\"]].to_csv(\"description.csv\")"
   ]
  },
  {
   "cell_type": "code",
   "execution_count": null,
   "metadata": {},
   "outputs": [],
   "source": [
    "df.head()"
   ]
  },
  {
   "cell_type": "code",
   "execution_count": null,
   "metadata": {},
   "outputs": [],
   "source": [
    "from text_processing.segmentation_by_terminals import segmentation_by_terminals, return_first_items\n",
    "\n",
    "def build_vacancy_text(number_in_db : int, df : pd.DataFrame):\n",
    "    cell = df.iloc[number_in_db]\n",
    "\n",
    "    vacancy_text = \"\"\n",
    "    vacancy_text += cell[\"name\"] + \"\\n\"\n",
    "    vacancy_text += cell[\"employer.name\"] + \"\\n\"\n",
    "    vacancy_text += cell[\"area.name\"] + \"\\n\\n\"\n",
    "    \n",
    "    description_segments = return_first_items(segmentation_by_terminals(cell[\"description\"], {}))\n",
    "    \n",
    "    for header in description_segments.keys():\n",
    "        vacancy_text += header + \"\\n\\n\"\n",
    "        for paragraph_string in description_segments[header]:\n",
    "            vacancy_text += \"- \" + paragraph_string + \"\\n\"\n",
    "        vacancy_text += \"\\n\"\n",
    "    \n",
    "    vacancy_text += \"Страница компании\" + \"\\n\"\n",
    "    vacancy_text += cell[\"employer.alternate_url\"] + \"\\n\\n\"\n",
    "    vacancy_text += \"Страница вакансии\" + \"\\n\"\n",
    "    vacancy_text += cell[\"alternate_url\"]\n",
    "\n",
    "    return vacancy_text"
   ]
  },
  {
   "cell_type": "code",
   "execution_count": null,
   "metadata": {},
   "outputs": [],
   "source": [
    "vacancy = build_vacancy_text(0, df)\n",
    "\n",
    "print(vacancy)"
   ]
  },
  {
   "cell_type": "code",
   "execution_count": 10,
   "metadata": {},
   "outputs": [
    {
     "name": "stderr",
     "output_type": "stream",
     "text": [
      "/home/ambisinistra/miniconda3/envs/HHbot/lib/python3.8/site-packages/pandas/core/indexing.py:670: SettingWithCopyWarning: \n",
      "A value is trying to be set on a copy of a slice from a DataFrame\n",
      "\n",
      "See the caveats in the documentation: https://pandas.pydata.org/pandas-docs/stable/user_guide/indexing.html#returning-a-view-versus-a-copy\n",
      "  iloc._setitem_with_indexer(indexer, value)\n"
     ]
    }
   ],
   "source": [
    "from my_telebot_utils import * #make_moder_keyboard, make_post_keyboard, make_suspicious_keyboard, make_irrelevant_keyboard, make_edit_keyboard\n",
    "#from telebot.types import InlineKeyboardMarkup\n",
    "#from telebot.types import InlineKeyboardButton \n",
    "\n",
    "from token import get_token\n",
    "import telebot\n",
    "\n",
    "TOKEN = get_token()\n",
    "bot = telebot.TeleBot(token=TOKEN, threaded=False)\n",
    "counter = 0\n",
    "\n",
    "# When moderator ask for vacancy bot should check for unnocuppied one,\n",
    "# mark it and give to moderator\n",
    "\n",
    "@bot.message_handler(commands=[\"get\"])\n",
    "def check(message):\n",
    "    keyboard = make_moder_keyboard()\n",
    "    \n",
    "    index = list(df[df[\"status\"]==\"unchecked\"].index)[0]\n",
    "    user_id = message.from_user.id\n",
    "    \n",
    "    text = build_vacancy_text(index, df)\n",
    "    df[\"vacancy text\"].iloc[index] = text\n",
    "    df[\"under consideration\"].iloc[index] = 1\n",
    "    df[\"telegram moder\"].iloc[index] = user_id\n",
    "    df[\"status\"].iloc[index] = \"checking_by \" + str(user_id)\n",
    "    df[\"logs\"].iloc[index] += \"send for check to \" + str(user_id) + \"\\n\" #TODO: add date\n",
    "    \n",
    "    bot.send_message(message.chat.id, text=text, reply_markup=keyboard)\n",
    "    #print (message.chat.id)\n",
    "\n",
    "@bot.callback_query_handler(func=lambda call: True)\n",
    "def callback_query(call):\n",
    "    index = df[df[\"telegram moder\"] == call.from_user.id].index #preassume there only one row\n",
    "    #recieving what key on message keyboard was pressed and editing keyboard accordingly\n",
    "    if call.data == \"post\":\n",
    "        keyboard = make_post_keyboard()\n",
    "        bot.send_message(text=call.message.text, chat_id=-1001267139997)\n",
    "        df[\"status\"].iloc[index] = \"posted\"\n",
    "        df[\"telegram moder\"].iloc[index] = -1\n",
    "        df[\"logs\"] += \"posted to \" + str(-1001267139997) + \"\\n\"\n",
    "        bot.answer_callback_query(call.id, \"vacancy was posted\")\n",
    "    elif call.data == \"irre\":\n",
    "        keyboard = make_irrelevant_keyboard()\n",
    "        df[\"status\"].iloc[index] = \"irrelevant\"\n",
    "        df[\"telegram moder\"].iloc[index] = -1\n",
    "        df[\"logs\"] += \"marked as irrelevant \\n\"\n",
    "        bot.answer_callback_query(call.id, \"vacancy was marked as irrelevant\")\n",
    "    elif call.data == \"susp\":\n",
    "        keyboard = make_suspicious_keyboard()\n",
    "        df[\"status\"].iloc[index] = \"suspicious\"\n",
    "        df[\"telegram moder\"].iloc[index] = -1\n",
    "        df[\"logs\"] += \"marked as suspicious \\n\"\n",
    "        bot.answer_callback_query(call.id, \"vacancy was marked as suspicious\")\n",
    "    elif call.data == \"othe\":\n",
    "        keyboard = make_irrelevant_keyboard()\n",
    "        df[\"status\"].iloc[index] = \"other\"\n",
    "        df[\"telegram moder\"].iloc[index] = -1\n",
    "        df[\"logs\"] += \"marked as other \\n\"\n",
    "        bot.answer_callback_query(call.id, \"vacancy was marked as out of a box\")\n",
    "    elif call.data == \"edit\":\n",
    "        #TODO\n",
    "        keyboard = make_edit_keyboard()\n",
    "        bot.answer_callback_query(call.id, \"please send me editeded vacancy post\")\n",
    "    \n",
    "    # depend on type of callback editing message keyboard. In case of edit button change text message also  \n",
    "    bot.edit_message_text(text=call.message.text, chat_id = call.from_user.id, message_id=call.message.message_id, reply_markup=keyboard)\n",
    "    \n",
    "bot.polling()"
   ]
  }
 ],
 "metadata": {
  "kernelspec": {
   "display_name": "Python 3",
   "language": "python",
   "name": "python3"
  },
  "language_info": {
   "codemirror_mode": {
    "name": "ipython",
    "version": 3
   },
   "file_extension": ".py",
   "mimetype": "text/x-python",
   "name": "python",
   "nbconvert_exporter": "python",
   "pygments_lexer": "ipython3",
   "version": "3.8.5"
  }
 },
 "nbformat": 4,
 "nbformat_minor": 4
}
